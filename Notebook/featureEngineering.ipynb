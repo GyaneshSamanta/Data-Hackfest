{
 "cells": [
  {
   "cell_type": "code",
   "execution_count": 2,
   "metadata": {},
   "outputs": [
    {
     "name": "stderr",
     "output_type": "stream",
     "text": [
      "C:\\Users\\mailg\\AppData\\Local\\Temp\\ipykernel_5088\\643047237.py:6: FutureWarning: The error_bad_lines argument has been deprecated and will be removed in a future version. Use on_bad_lines in the future.\n",
      "\n",
      "\n",
      "  jobs = pd.read_csv(r'C:\\Users\\mailg\\OneDrive\\Documents\\GitHub\\Data-Hackfest\\Dataset\\jobs.tsv', delimiter='\\t', encoding='utf-8', error_bad_lines=False)\n",
      "Skipping line 122433: expected 11 fields, saw 12\n",
      "\n",
      "Skipping line 602576: expected 11 fields, saw 12\n",
      "\n",
      "Skipping line 990950: expected 11 fields, saw 12\n",
      "\n",
      "C:\\Users\\mailg\\AppData\\Local\\Temp\\ipykernel_5088\\643047237.py:6: DtypeWarning: Columns (8) have mixed types. Specify dtype option on import or set low_memory=False.\n",
      "  jobs = pd.read_csv(r'C:\\Users\\mailg\\OneDrive\\Documents\\GitHub\\Data-Hackfest\\Dataset\\jobs.tsv', delimiter='\\t', encoding='utf-8', error_bad_lines=False)\n"
     ]
    }
   ],
   "source": [
    "import pandas as pd\n",
    "\n",
    "# Load the datasets\n",
    "apps = pd.read_csv(r'C:\\Users\\mailg\\OneDrive\\Documents\\GitHub\\Data-Hackfest\\Dataset\\apps.tsv', delimiter='\\t', encoding='utf-8')\n",
    "user_history = pd.read_csv(r'C:\\Users\\mailg\\OneDrive\\Documents\\GitHub\\Data-Hackfest\\Dataset\\user_history.tsv', delimiter='\\t', encoding='utf-8')\n",
    "jobs = pd.read_csv(r'C:\\Users\\mailg\\OneDrive\\Documents\\GitHub\\Data-Hackfest\\Dataset\\jobs.tsv', delimiter='\\t', encoding='utf-8', error_bad_lines=False)\n",
    "users = pd.read_csv(r'C:\\Users\\mailg\\OneDrive\\Documents\\GitHub\\Data-Hackfest\\Dataset\\users.tsv', delimiter='\\t', encoding='utf-8')\n",
    "test_users = pd.read_csv(r'C:\\Users\\mailg\\OneDrive\\Documents\\GitHub\\Data-Hackfest\\Dataset\\test_users.tsv', delimiter='\\t', encoding='utf-8')\n",
    "popular_jobs = pd.read_csv(r'C:\\Users\\mailg\\OneDrive\\Documents\\GitHub\\Data-Hackfest\\Dataset\\popular_jobs.csv')\n",
    "window_dates = pd.read_csv(r'C:\\Users\\mailg\\OneDrive\\Documents\\GitHub\\Data-Hackfest\\Dataset\\window_dates.tsv', delimiter='\\t', encoding='utf-8')"
   ]
  },
  {
   "cell_type": "code",
   "execution_count": 5,
   "metadata": {},
   "outputs": [
    {
     "name": "stderr",
     "output_type": "stream",
     "text": [
      "C:\\Users\\mailg\\AppData\\Local\\Temp\\ipykernel_5088\\2405591077.py:7: FutureWarning: The error_bad_lines argument has been deprecated and will be removed in a future version. Use on_bad_lines in the future.\n",
      "\n",
      "\n",
      "  jobs = pd.read_csv(r'C:\\Users\\mailg\\OneDrive\\Documents\\GitHub\\Data-Hackfest\\Dataset\\jobs.tsv', delimiter='\\t', encoding='utf-8', error_bad_lines=False)\n",
      "Skipping line 122433: expected 11 fields, saw 12\n",
      "\n",
      "Skipping line 602576: expected 11 fields, saw 12\n",
      "\n",
      "Skipping line 990950: expected 11 fields, saw 12\n",
      "\n",
      "C:\\Users\\mailg\\AppData\\Local\\Temp\\ipykernel_5088\\2405591077.py:7: DtypeWarning: Columns (8) have mixed types. Specify dtype option on import or set low_memory=False.\n",
      "  jobs = pd.read_csv(r'C:\\Users\\mailg\\OneDrive\\Documents\\GitHub\\Data-Hackfest\\Dataset\\jobs.tsv', delimiter='\\t', encoding='utf-8', error_bad_lines=False)\n"
     ]
    },
    {
     "name": "stdout",
     "output_type": "stream",
     "text": [
      "    UserID  WindowID  Split          City State Country ZipCode  DegreeType  \\\n",
      "0       47         1  Train     Paramount    CA      US   90723           2   \n",
      "2       80         1  Train  Williamstown    NJ      US   08094           2   \n",
      "5      131         1  Train       Houston    TX      US   77077           1   \n",
      "14     483         1  Train          York    PA      US   17406           1   \n",
      "15     496         1  Train        Easley    SC      US   29640           2   \n",
      "\n",
      "    Major GraduationDate  WorkHistoryCount  TotalYearsExperience  \\\n",
      "0   46095     1999-06-01                 3                  10.0   \n",
      "2   33709     1985-06-01                 5                  11.0   \n",
      "5   19667     1998-05-01                 3                  14.0   \n",
      "14    628     1989-01-01                 6                  22.0   \n",
      "15  33709     1987-01-01                10                  21.0   \n",
      "\n",
      "    CurrentlyEmployed  ManagedOthers  ManagedHowMany  GraduationYear  \\\n",
      "0                   1              0               0          1999.0   \n",
      "2                   1              1               5          1985.0   \n",
      "5                   2              0               0          1998.0   \n",
      "14                  2              0               0          1989.0   \n",
      "15                  0              0               0          1987.0   \n",
      "\n",
      "    HasMasterOrHigher   Age  \n",
      "0                   0  25.0  \n",
      "2                   0  39.0  \n",
      "5                   0  26.0  \n",
      "14                  0  35.0  \n",
      "15                  0  37.0  \n",
      "    DegreeType  Major  GraduationYear  WorkHistoryCount  TotalYearsExperience  \\\n",
      "0            2  46095          1999.0                 3                  10.0   \n",
      "2            2  33709          1985.0                 5                  11.0   \n",
      "5            1  19667          1998.0                 3                  14.0   \n",
      "14           1    628          1989.0                 6                  22.0   \n",
      "15           2  33709          1987.0                10                  21.0   \n",
      "\n",
      "    CurrentlyEmployed  ManagedOthers  ManagedHowMany   Age  HasMasterOrHigher  \n",
      "0                   1              0               0  25.0                  0  \n",
      "2                   1              1               5  39.0                  0  \n",
      "5                   2              0               0  26.0                  0  \n",
      "14                  2              0               0  35.0                  0  \n",
      "15                  0              0               0  37.0                  0  \n"
     ]
    }
   ],
   "source": [
    "import pandas as pd\n",
    "from sklearn.preprocessing import LabelEncoder\n",
    "\n",
    "# Load the datasets\n",
    "apps = pd.read_csv(r'C:\\Users\\mailg\\OneDrive\\Documents\\GitHub\\Data-Hackfest\\Dataset\\apps.tsv', delimiter='\\t', encoding='utf-8')\n",
    "user_history = pd.read_csv(r'C:\\Users\\mailg\\OneDrive\\Documents\\GitHub\\Data-Hackfest\\Dataset\\user_history.tsv', delimiter='\\t', encoding='utf-8')\n",
    "jobs = pd.read_csv(r'C:\\Users\\mailg\\OneDrive\\Documents\\GitHub\\Data-Hackfest\\Dataset\\jobs.tsv', delimiter='\\t', encoding='utf-8', error_bad_lines=False)\n",
    "users = pd.read_csv(r'C:\\Users\\mailg\\OneDrive\\Documents\\GitHub\\Data-Hackfest\\Dataset\\users.tsv', delimiter='\\t', encoding='utf-8')\n",
    "\n",
    "# Handle missing values as previously discussed\n",
    "\n",
    "# Convert GraduationDate to datetime\n",
    "users['GraduationDate'] = pd.to_datetime(users['GraduationDate'], errors='coerce')\n",
    "\n",
    "# Extract year from GraduationDate for feature engineering\n",
    "users['GraduationYear'] = users['GraduationDate'].dt.year\n",
    "\n",
    "# Encode categorical variables\n",
    "le_degree = LabelEncoder()\n",
    "users['DegreeType'] = le_degree.fit_transform(users['DegreeType'])\n",
    "\n",
    "le_major = LabelEncoder()\n",
    "users['Major'] = le_major.fit_transform(users['Major'].astype(str))\n",
    "\n",
    "le_employed = LabelEncoder()\n",
    "users['CurrentlyEmployed'] = le_employed.fit_transform(users['CurrentlyEmployed'])\n",
    "\n",
    "le_managed = LabelEncoder()\n",
    "users['ManagedOthers'] = le_managed.fit_transform(users['ManagedOthers'])\n",
    "\n",
    "# Select relevant features for the model\n",
    "candidate_features = ['DegreeType', 'Major', 'GraduationYear', 'WorkHistoryCount', 'TotalYearsExperience', 'CurrentlyEmployed', 'ManagedOthers', 'ManagedHowMany']\n",
    "\n",
    "# Add more feature engineering if necessary\n",
    "# Example: Feature to indicate if a candidate has a Master's degree or higher\n",
    "users['HasMasterOrHigher'] = users['DegreeType'].apply(lambda x: 1 if x in ['Master', 'PhD'] else 0)\n",
    "\n",
    "# Example: Calculate age based on GraduationYear\n",
    "import datetime\n",
    "current_year = datetime.datetime.now().year\n",
    "users['Age'] = current_year - users['GraduationYear']\n",
    "\n",
    "# Filter out extreme ages (e.g., remove rows where age is negative or too high)\n",
    "users = users[(users['Age'] > 18) & (users['Age'] < 65)]\n",
    "\n",
    "# Verify the new features\n",
    "print(users.head())\n",
    "\n",
    "# Drop rows with any remaining missing values in selected features\n",
    "users = users.dropna(subset=candidate_features)\n",
    "\n",
    "# Final candidate profile features\n",
    "candidate_profile = users[candidate_features + ['Age', 'HasMasterOrHigher']]\n",
    "print(candidate_profile.head())\n"
   ]
  },
  {
   "cell_type": "code",
   "execution_count": 6,
   "metadata": {},
   "outputs": [
    {
     "name": "stdout",
     "output_type": "stream",
     "text": [
      "   DegreeType     Major  GraduationYear  WorkHistoryCount  \\\n",
      "0   -0.000736  1.306148        0.520069         -0.865538   \n",
      "1   -0.000736  0.409069       -1.003935          0.008108   \n",
      "2   -0.753279 -0.607949        0.411212         -0.865538   \n",
      "3   -0.753279 -1.986884       -0.568505          0.444930   \n",
      "4   -0.000736  0.409069       -0.786220          2.192221   \n",
      "\n",
      "   TotalYearsExperience  CurrentlyEmployed  ManagedOthers  ManagedHowMany  \\\n",
      "0             -0.541686           0.430864      -0.690693       -0.096176   \n",
      "1             -0.427200           0.430864       1.447820       -0.049712   \n",
      "2             -0.083742           1.980942      -0.690693       -0.096176   \n",
      "3              0.832147           1.980942      -0.690693       -0.096176   \n",
      "4              0.717661          -1.119213      -0.690693       -0.096176   \n",
      "\n",
      "        Age  HasMasterOrHigher  \n",
      "0 -0.520069                0.0  \n",
      "1  1.003935                0.0  \n",
      "2 -0.411212                0.0  \n",
      "3  0.568505                0.0  \n",
      "4  0.786220                0.0  \n"
     ]
    }
   ],
   "source": [
    "from sklearn.preprocessing import StandardScaler\n",
    "\n",
    "# Select relevant features for the model\n",
    "candidate_features = ['DegreeType', 'Major', 'GraduationYear', 'WorkHistoryCount', 'TotalYearsExperience', 'CurrentlyEmployed', 'ManagedOthers', 'ManagedHowMany', 'Age', 'HasMasterOrHigher']\n",
    "\n",
    "# Filter out the selected features\n",
    "candidate_profile = users[candidate_features]\n",
    "\n",
    "# Normalization\n",
    "scaler = StandardScaler()\n",
    "candidate_profile_scaled = scaler.fit_transform(candidate_profile)\n",
    "\n",
    "# Convert back to DataFrame for easy inspection\n",
    "candidate_profile_scaled = pd.DataFrame(candidate_profile_scaled, columns=candidate_features)\n",
    "\n",
    "print(candidate_profile_scaled.head())\n"
   ]
  },
  {
   "cell_type": "code",
   "execution_count": null,
   "metadata": {},
   "outputs": [],
   "source": []
  }
 ],
 "metadata": {
  "kernelspec": {
   "display_name": "Python 3 (ipykernel)",
   "language": "python",
   "name": "python3"
  },
  "language_info": {
   "codemirror_mode": {
    "name": "ipython",
    "version": 3
   },
   "file_extension": ".py",
   "mimetype": "text/x-python",
   "name": "python",
   "nbconvert_exporter": "python",
   "pygments_lexer": "ipython3",
   "version": "3.11.5"
  }
 },
 "nbformat": 4,
 "nbformat_minor": 2
}
